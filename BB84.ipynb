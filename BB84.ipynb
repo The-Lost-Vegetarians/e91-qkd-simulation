{
  "nbformat": 4,
  "nbformat_minor": 0,
  "metadata": {
    "colab": {
      "provenance": []
    },
    "kernelspec": {
      "name": "python3",
      "display_name": "Python 3"
    },
    "language_info": {
      "name": "python"
    }
  },
  "cells": [
    {
      "cell_type": "code",
      "source": [
        "# Install necessary libraries\n",
        "# !pip install qiskit qiskit-aer matplotlib numpy\n",
        "# !pip install pylatexenc"
      ],
      "metadata": {
        "id": "fzXjVubGJfPj"
      },
      "execution_count": null,
      "outputs": []
    },
    {
      "cell_type": "code",
      "source": [
        "# Import libraries\n",
        "import numpy as np\n",
        "from qiskit import QuantumCircuit, transpile\n",
        "from qiskit_aer import AerSimulator\n",
        "from qiskit.visualization import plot_histogram\n",
        "import matplotlib.pyplot as plt"
      ],
      "metadata": {
        "id": "YuHagXw4JlAY"
      },
      "execution_count": null,
      "outputs": []
    },
    {
      "cell_type": "markdown",
      "source": [
        "#BB84 Protocol"
      ],
      "metadata": {
        "id": "LmJWmaoQUhQT"
      }
    },
    {
      "cell_type": "code",
      "source": [
        "# Define the main simulation function\n",
        "def bb84_protocol(key_length=20, eavesdropper=False):\n",
        "    \"\"\"\n",
        "    Simulates the BB84 protocol.\n",
        "\n",
        "    Args:\n",
        "        key_length (int): The desired length of the final secret key.\n",
        "        eavesdropper (bool): If True, an eavesdropper (Eve) will intercept and measure the qubits.\n",
        "\n",
        "    Returns:\n",
        "        (bool, str, str): Success status, Alice's final key, Bob's final key.\n",
        "    \"\"\"\n",
        "    # To get a final key of `key_length`, we start with 4x the length.\n",
        "    initial_bits_count = 4 * key_length\n",
        "\n",
        "    ## ALICE'S SIDE ##\n",
        "    alice_bits = np.random.randint(2, size=initial_bits_count)\n",
        "    alice_bases = np.random.randint(2, size=initial_bits_count)\n",
        "\n",
        "    ## ENCODING QUBITS ##\n",
        "    # Create a quantum circuit to encode Alice's bits and bases\n",
        "    qc = QuantumCircuit(initial_bits_count, initial_bits_count)\n",
        "\n",
        "    for i in range(initial_bits_count):\n",
        "        if alice_bits[i] == 1:\n",
        "            qc.x(i)\n",
        "        if alice_bases[i] == 1:\n",
        "            qc.h(i)\n",
        "\n",
        "    qc.barrier()\n",
        "\n",
        "    ## EVE'S INTERCEPTION (Optional) ##\n",
        "    if eavesdropper:\n",
        "        print(\"\\n*** An Eavesdropper (Eve) is intercepting the qubits! ***\")\n",
        "        eve_bases = np.random.randint(2, size=initial_bits_count)\n",
        "        for i in range(initial_bits_count):\n",
        "            if eve_bases[i] == 1:\n",
        "                qc.h(i)\n",
        "            qc.measure(i, i)\n",
        "            if eve_bases[i] == 1:\n",
        "                qc.h(i)\n",
        "        qc.barrier()\n",
        "\n",
        "    ## BOB'S SIDE ##\n",
        "    bob_bases = np.random.randint(2, size=initial_bits_count)\n",
        "\n",
        "    for i in range(initial_bits_count):\n",
        "        if bob_bases[i] == 1:\n",
        "            qc.h(i)\n",
        "\n",
        "    qc.measure(range(initial_bits_count), range(initial_bits_count))\n",
        "\n",
        "    ## SIMULATION ##\n",
        "    simulator = AerSimulator()\n",
        "    compiled_circuit = transpile(qc, simulator)\n",
        "    job = simulator.run(compiled_circuit, shots=1)\n",
        "    result = job.result()\n",
        "    counts = result.get_counts()\n",
        "\n",
        "    # Extract Bob's measured bits\n",
        "    bob_measured_bits_str = list(counts.keys())[0]\n",
        "    bob_measured_bits = np.array([int(bit) for bit in bob_measured_bits_str])[::-1]\n",
        "\n",
        "    ## BASIS RECONCILIATION & SIFTING ##\n",
        "    sifted_key_indices = []\n",
        "    for i in range(initial_bits_count):\n",
        "        if alice_bases[i] == bob_bases[i]:\n",
        "            sifted_key_indices.append(i)\n",
        "\n",
        "    alice_sifted_key = alice_bits[sifted_key_indices]\n",
        "    bob_sifted_key = bob_measured_bits[sifted_key_indices]\n",
        "\n",
        "    ## ERROR CHECKING ##\n",
        "    # Take a sample of the bits to check for errors\n",
        "    sample_size = min(len(alice_sifted_key), key_length) // 2\n",
        "    if sample_size == 0:\n",
        "        print(\"\\nKey is too short to perform an error check. Aborting.\")\n",
        "        return False, \"\", \"\"\n",
        "\n",
        "    error_count = 0\n",
        "    for i in range(sample_size):\n",
        "        if alice_sifted_key[i] != bob_sifted_key[i]:\n",
        "            error_count += 1\n",
        "\n",
        "    error_rate = error_count / sample_size\n",
        "\n",
        "    if error_rate > 0.1:\n",
        "        print(\"Error rate is too high! Eavesdropper detected. KEY DISCARDED.\")\n",
        "        return False, ''.join(map(str, alice_sifted_key)), ''.join(map(str, bob_sifted_key))\n",
        "    else:\n",
        "        print(\"Error rate is acceptable. Generating final key.\")\n",
        "\n",
        "        # The final key is the part of the sifted key that was NOT used for error checking\n",
        "        final_key = alice_sifted_key[sample_size:]\n",
        "\n",
        "        # Trim it to the desired key length\n",
        "        final_key = final_key[:key_length]\n",
        "\n",
        "        # For the simulation, we assume Bob's final key is the same after confirming no errors\n",
        "        bob_final_key = bob_sifted_key[sample_size:][:key_length]\n",
        "\n",
        "        if len(final_key) < key_length:\n",
        "             print(\"\\nWarning: Final key is shorter than desired length due to high discard rate.\")\n",
        "\n",
        "        return True, ''.join(map(str, final_key)), ''.join(map(str, bob_final_key))\n",
        "\n",
        "# Run the Simulation"
      ],
      "metadata": {
        "id": "xkHryWQ9VF3d"
      },
      "execution_count": null,
      "outputs": []
    },
    {
      "cell_type": "code",
      "source": [
        "# Run the BB84 protocol simulation\n",
        "# Scenario 1: No Eavesdropper\n",
        "print(\"--- Running simulation WITHOUT an eavesdropper ---\")\n",
        "success, alice_key, bob_key = bb84_protocol(key_length=7, eavesdropper=False)\n",
        "if success:\n",
        "    print(f\"\\n✅ SUCCESS: Secure key established.\")\n",
        "    print(f\"  Final Alice Key: {alice_key}\")\n",
        "    print(f\"  Final Bob Key:   {bob_key}\")\n",
        "    print(f\"  Keys Match: {alice_key == bob_key}\")\n",
        "\n",
        "print(\"\\n\" + \"=\"*50 + \"\\n\")\n",
        "\n",
        "# Scenario 2: With an Eavesdropper\n",
        "print(\"--- Running simulation WITH an eavesdropper ---\")\n",
        "success, alice_key, bob_key = bb84_protocol(key_length=7, eavesdropper=True)\n",
        "if not success:\n",
        "    print(f\"\\n❌ PROTOCOL ABORTED as expected due to high error rate.\")"
      ],
      "metadata": {
        "colab": {
          "base_uri": "https://localhost:8080/"
        },
        "id": "rMUmDDFxJuUC",
        "outputId": "d513fcbe-f66c-4f00-fa74-0248f2734003"
      },
      "execution_count": null,
      "outputs": [
        {
          "output_type": "stream",
          "name": "stdout",
          "text": [
            "--- Running simulation WITHOUT an eavesdropper ---\n",
            "Error rate is acceptable. Generating final key.\n",
            "\n",
            "✅ SUCCESS: Secure key established.\n",
            "  Final Alice Key: 1111001\n",
            "  Final Bob Key:   1111001\n",
            "  Keys Match: True\n",
            "\n",
            "==================================================\n",
            "\n",
            "--- Running simulation WITH an eavesdropper ---\n",
            "\n",
            "*** An Eavesdropper (Eve) is intercepting the qubits! ***\n",
            "Error rate is too high! Eavesdropper detected. KEY DISCARDED.\n",
            "\n",
            "❌ PROTOCOL ABORTED as expected due to high error rate.\n"
          ]
        }
      ]
    },
    {
      "cell_type": "code",
      "source": [
        "# Simulate secure communication without an eavesdropper\n",
        "# Setup\n",
        "n = 5 # Number of qubits\n",
        "\n",
        "# Alice's Side\n",
        "alice_bits = np.random.randint(2, size=n)\n",
        "alice_bases = np.random.randint(2, size=n)\n",
        "qc_secure = QuantumCircuit(n, n)\n",
        "\n",
        "for i in range(n):\n",
        "    if alice_bits[i] == 1: qc_secure.x(i)\n",
        "    if alice_bases[i] == 1: qc_secure.h(i)\n",
        "qc_secure.barrier()\n",
        "\n",
        "# Bob's Side\n",
        "bob_bases = np.random.randint(2, size=n)\n",
        "for i in range(n):\n",
        "    if bob_bases[i] == 1: qc_secure.h(i)\n",
        "qc_secure.barrier()\n",
        "\n",
        "# Measurement\n",
        "qc_secure.measure(range(n), range(n))\n",
        "\n",
        "# Simulation\n",
        "simulator = AerSimulator()\n",
        "compiled_circuit = transpile(qc_secure, simulator)\n",
        "result = simulator.run(compiled_circuit, shots=1).result()\n",
        "counts = result.get_counts()\n",
        "bob_measured_bits_str = list(counts.keys())[0]\n",
        "bob_measured_bits = np.array([int(bit) for bit in bob_measured_bits_str])[::-1]\n",
        "\n",
        "# Analysis\n",
        "print(\"--- SECURE COMMUNICATION ANALYSIS ---\")\n",
        "print(f\"Alice's original bits: {alice_bits}\")\n",
        "print(f\"Alice's chosen bases:  {alice_bases} (0=+, 1=x)\")\n",
        "print(f\"Bob's chosen bases:    {bob_bases} (0=+, 1=x)\")\n",
        "print(f\"Bob's measured bits:   {bob_measured_bits}\")\n",
        "\n",
        "# Sifting: Compare bases and keep only the matching ones\n",
        "sifted_key_indices = [i for i in range(n) if alice_bases[i] == bob_bases[i]]\n",
        "alice_sifted_key = alice_bits[sifted_key_indices]\n",
        "bob_sifted_key = bob_measured_bits[sifted_key_indices]\n",
        "\n",
        "print(\"\\n--- Sifted Keys (where bases matched) ---\")\n",
        "print(f\"Matching basis indices: {sifted_key_indices}\")\n",
        "print(f\"Alice's sifted key: {alice_sifted_key}\")\n",
        "print(f\"Bob's sifted key:   {bob_sifted_key}\")\n",
        "\n",
        "if np.array_equal(alice_sifted_key, bob_sifted_key):\n",
        "    print(\"\\n✅ Success! The sifted keys match perfectly. No eavesdropper detected.\")\n",
        "else:\n",
        "    print(\"\\n❌ Error! Keys do not match. (This shouldn't happen in a noise-free simulation).\")\n",
        "\n",
        "# Draw the circuit for reference\n",
        "qc_secure.draw('mpl')"
      ],
      "metadata": {
        "colab": {
          "base_uri": "https://localhost:8080/",
          "height": 668
        },
        "id": "aqNfIgQcEgHY",
        "outputId": "59f7c460-abda-41ea-cf41-b7886ecaa097"
      },
      "execution_count": null,
      "outputs": [
        {
          "output_type": "stream",
          "name": "stdout",
          "text": [
            "--- SECURE COMMUNICATION ANALYSIS ---\n",
            "Alice's original bits: [1 1 0 1 1]\n",
            "Alice's chosen bases:  [1 0 1 0 0] (0=+, 1=x)\n",
            "Bob's chosen bases:    [1 1 0 0 0] (0=+, 1=x)\n",
            "Bob's measured bits:   [1 0 0 1 1]\n",
            "\n",
            "--- Sifted Keys (where bases matched) ---\n",
            "Matching basis indices: [0, 3, 4]\n",
            "Alice's sifted key: [1 1 1]\n",
            "Bob's sifted key:   [1 1 1]\n",
            "\n",
            "✅ Success! The sifted keys match perfectly. No eavesdropper detected.\n"
          ]
        },
        {
          "output_type": "execute_result",
          "data": {
            "text/plain": [
              "<Figure size 956.385x535.111 with 1 Axes>"
            ],
            "image/png": "[encoded data removed]"
          },
          "metadata": {},
          "execution_count": 5
        }
      ]
    },
    {
      "cell_type": "code",
      "metadata": {
        "colab": {
          "base_uri": "https://localhost:8080/",
          "height": 704
        },
        "id": "b7a7b7d3",
        "outputId": "d5076054-84b5-4be6-b578-3481c408f396"
      },
      "source": [
        "# Simulate compromised communication with an eavesdropper\n",
        "# Setup\n",
        "n = 5\n",
        "\n",
        "# Alice's Side\n",
        "alice_bits = np.random.randint(2, size=n)\n",
        "alice_bases = np.random.randint(2, size=n)\n",
        "qc_eve = QuantumCircuit(n, n)\n",
        "\n",
        "for i in range(n):\n",
        "    if alice_bits[i] == 1: qc_eve.x(i)\n",
        "    if alice_bases[i] == 1: qc_eve.h(i)\n",
        "qc_eve.barrier()\n",
        "\n",
        "# Eve's Side\n",
        "eve_bases = np.random.randint(2, size=n)\n",
        "for i in range(n):\n",
        "    if eve_bases[i] == 1: qc_eve.h(i)\n",
        "qc_eve.barrier()\n",
        "\n",
        "# Bob's Side\n",
        "bob_bases = np.random.randint(2, size=n)\n",
        "for i in range(n):\n",
        "    if bob_bases[i] == 1: qc_eve.h(i)\n",
        "qc_eve.barrier()\n",
        "\n",
        "# Measurement\n",
        "qc_eve.measure(range(n), range(n))\n",
        "\n",
        "# Simulation\n",
        "simulator = AerSimulator()\n",
        "compiled_circuit = transpile(qc_eve, simulator)\n",
        "result = simulator.run(compiled_circuit, shots=1).result()\n",
        "counts = result.get_counts()\n",
        "bob_measured_bits_str = list(counts.keys())[0]\n",
        "bob_measured_bits = np.array([int(bit) for bit in bob_measured_bits_str])[::-1]\n",
        "\n",
        "# Analysis\n",
        "print(\"--- COMPROMISED COMMUNICATION ANALYSIS ---\")\n",
        "print(f\"Alice's original bits: {alice_bits}\")\n",
        "print(f\"Alice's chosen bases:  {alice_bases} (0=+, 1=x)\")\n",
        "print(f\"Eve's chosen bases:    {eve_bases} (0=+, 1=x)\")\n",
        "print(f\"Bob's chosen bases:    {bob_bases} (0=+, 1=x)\")\n",
        "print(f\"Bob's measured bits:   {bob_measured_bits}\")\n",
        "\n",
        "# Sifting: Compare bases\n",
        "sifted_key_indices = [i for i in range(n) if alice_bases[i] == bob_bases[i]]\n",
        "alice_sifted_key = alice_bits[sifted_key_indices]\n",
        "bob_sifted_key = bob_measured_bits[sifted_key_indices]\n",
        "\n",
        "print(\"\\n--- Sifted Keys (where bases matched) ---\")\n",
        "print(f\"Matching basis indices: {sifted_key_indices}\")\n",
        "print(f\"Alice's sifted key: {alice_sifted_key}\")\n",
        "print(f\"Bob's sifted key:   {bob_sifted_key}\")\n",
        "\n",
        "if not np.array_equal(alice_sifted_key, bob_sifted_key):\n",
        "    print(\"\\n🚨 Alert! The sifted keys DO NOT match. Eavesdropper detected!\")\n",
        "    error_rate = np.sum(alice_sifted_key != bob_sifted_key) / len(alice_sifted_key) if len(alice_sifted_key) > 0 else 0\n",
        "    print(f\"Quantum Bit Error Rate (QBER): {error_rate:.2%}\")\n",
        "else:\n",
        "    print(\"\\n⚠️ No errors detected. Eve might have gotten lucky with her basis choices.\")\n",
        "\n",
        "# Draw the circuit for reference\n",
        "qc_eve.draw('mpl')"
      ],
      "execution_count": null,
      "outputs": [
        {
          "output_type": "stream",
          "name": "stdout",
          "text": [
            "--- COMPROMISED COMMUNICATION ANALYSIS ---\n",
            "Alice's original bits: [1 0 1 1 0]\n",
            "Alice's chosen bases:  [0 1 0 1 1] (0=+, 1=x)\n",
            "Eve's chosen bases:    [0 1 0 1 1] (0=+, 1=x)\n",
            "Bob's chosen bases:    [1 1 1 1 0] (0=+, 1=x)\n",
            "Bob's measured bits:   [0 0 1 0 0]\n",
            "\n",
            "--- Sifted Keys (where bases matched) ---\n",
            "Matching basis indices: [1, 3]\n",
            "Alice's sifted key: [0 1]\n",
            "Bob's sifted key:   [0 0]\n",
            "\n",
            "🚨 Alert! The sifted keys DO NOT match. Eavesdropper detected!\n",
            "Quantum Bit Error Rate (QBER): 50.00%\n"
          ]
        },
        {
          "output_type": "execute_result",
          "data": {
            "text/plain": [
              "<Figure size 1123.61x535.111 with 1 Axes>"
            ],
            "image/png": "[encoded data removed]"
          },
          "metadata": {},
          "execution_count": 6
        }
      ]
    }
  ]
}